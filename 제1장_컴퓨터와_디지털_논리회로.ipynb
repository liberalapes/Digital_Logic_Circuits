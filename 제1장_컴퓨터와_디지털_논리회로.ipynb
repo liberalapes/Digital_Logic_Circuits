{
 "cells": [
  {
   "cell_type": "code",
   "execution_count": null,
   "metadata": {
    "collapsed": true
   },
   "outputs": [],
   "source": [
    "#-*- coding : utf-8 -*-"
   ]
  },
  {
   "cell_type": "markdown",
   "source": [
    "# 디지털 논리회로\n",
    "---\n",
    "## 제1장 컴퓨터와 디지털 논리회로\n",
    "### 1.1 디지털 시스템\n",
    "### 1.2 컴퓨터 구성\n",
    "### 1.3 집적회로\n",
    "---"
   ],
   "metadata": {
    "collapsed": false
   }
  },
  {
   "cell_type": "markdown",
   "source": [
    "### 1.1 디지털 시스템\n",
    "#### 1.1.1 시스템\n",
    "#### 1.1.2 아날로그와 디지털\n",
    "##### (1) 데이터의 근사적 표현\n",
    "##### (2) 아날로그 시스템과 디지털 시스템\n",
    "##### (3) 디지털 시스템의 장점\n",
    "#### 1.1.3 디지털 시스템의 설계 및 논리회로\n",
    "##### (1) 디지털 시스템의 설계\n",
    "##### (2) 디지털 논리회로의 개요"
   ],
   "metadata": {
    "collapsed": false
   }
  },
  {
   "cell_type": "markdown",
   "source": [
    "### 1.2 컴퓨터 구성\n",
    "\n",
    "#### 1.2.1 컴퓨터 시스템\n",
    "#### 1.2.2 컴퓨터 하드웨어 구성\n",
    "#### 1.2.3 디지털 컴퓨터의 구성"
   ],
   "metadata": {
    "collapsed": false
   }
  },
  {
   "cell_type": "markdown",
   "source": [
    "### 1.3 집적회로\n",
    "#### 1.3.1 개요\n",
    "\n",
    "#### 1.3.2 집적회로의 집적도\n",
    "##### (1) 소규모 집적\n",
    "##### (2) 중규모 집적\n",
    "##### (3) 대규모 집적\n",
    "##### (4) 초대규모 집적\n",
    "\n",
    "#### 1.3.3 집적회로의 특성\n",
    "##### (1) 팬-아웃, 팬-인\n",
    "##### (2) 전력소모\n",
    "##### (3) 전파지연시간\n",
    "##### (4) 잡음여유\n",
    "\n",
    "#### 1.3.4 양논리와 음논리\n",
    "\n"
   ],
   "metadata": {
    "collapsed": false
   }
  }
 ],
 "metadata": {
  "kernelspec": {
   "display_name": "Python 3",
   "language": "python",
   "name": "python3"
  },
  "language_info": {
   "codemirror_mode": {
    "name": "ipython",
    "version": 2
   },
   "file_extension": ".py",
   "mimetype": "text/x-python",
   "name": "python",
   "nbconvert_exporter": "python",
   "pygments_lexer": "ipython2",
   "version": "2.7.6"
  },
  "pycharm": {
   "stem_cell": {
    "cell_type": "raw",
    "source": [],
    "metadata": {
     "collapsed": false
    }
   }
  }
 },
 "nbformat": 4,
 "nbformat_minor": 0
}