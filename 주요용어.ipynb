{
 "cells": [
  {
   "cell_type": "code",
   "execution_count": 1,
   "metadata": {
    "collapsed": true,
    "pycharm": {
     "is_executing": false,
     "name": "#%%\n"
    }
   },
   "outputs": [],
   "source": [
    "#-*- coding : utf-8 -#%%\n"
   ]
  },
  {
   "cell_type": "markdown",
   "source": [
    "# 주요 용어\n",
    "---\n",
    "# 1장 \n",
    "- 시스템\n",
    "- 아날로그 시스템\n",
    "- 디지털 시스템\n",
    "- 디지털 논리회로\n",
    "- 컴퓨터 시스템\n",
    "- 집적회로\n",
    "\n",
    "\n"
   ],
   "metadata": {
    "collapsed": false,
    "pycharm": {
     "name": "#%% md\n"
    }
   }
  }
 ],
 "metadata": {
  "kernelspec": {
   "name": "pycharm-11b384bd",
   "language": "python",
   "display_name": "PyCharm (Digital_Logic_Circuits_knou)"
  },
  "language_info": {
   "codemirror_mode": {
    "name": "ipython",
    "version": 2
   },
   "file_extension": ".py",
   "mimetype": "text/x-python",
   "name": "python",
   "nbconvert_exporter": "python",
   "pygments_lexer": "ipython2",
   "version": "2.7.6"
  },
  "pycharm": {
   "stem_cell": {
    "cell_type": "raw",
    "source": [],
    "metadata": {
     "collapsed": false
    }
   }
  }
 },
 "nbformat": 4,
 "nbformat_minor": 0
}